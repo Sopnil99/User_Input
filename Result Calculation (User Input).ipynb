{
 "cells": [
  {
   "cell_type": "markdown",
   "id": "c5e7bf5b",
   "metadata": {},
   "source": [
    "# Result Calculation"
   ]
  },
  {
   "cell_type": "markdown",
   "id": "992c8427",
   "metadata": {},
   "source": [
    "Input from user"
   ]
  },
  {
   "cell_type": "code",
   "execution_count": 1,
   "id": "36250049",
   "metadata": {},
   "outputs": [
    {
     "name": "stdout",
     "output_type": "stream",
     "text": [
      "Enter your obtained number for english : 85\n",
      "Enter your obtained number for mathematics : 87\n",
      "Enter your obtained number for physics : 77\n",
      "Enter your obtained number for chemistry : 75\n"
     ]
    }
   ],
   "source": [
    "Eng=int(input(\"Enter your obtained number for english : \"))\n",
    "Math=int(input(\"Enter your obtained number for mathematics : \"))\n",
    "Phy=int(input(\"Enter your obtained number for physics : \"))\n",
    "Che=int(input(\"Enter your obtained number for chemistry : \"))"
   ]
  },
  {
   "cell_type": "code",
   "execution_count": 2,
   "id": "18cf79d6",
   "metadata": {},
   "outputs": [
    {
     "name": "stdout",
     "output_type": "stream",
     "text": [
      "Total obtained numbers are :  324\n"
     ]
    }
   ],
   "source": [
    "sum=(Eng+Math+Phy+Che)\n",
    "print(\"Total obtained numbers are : \", sum)"
   ]
  },
  {
   "cell_type": "code",
   "execution_count": 3,
   "id": "6e8fd30f",
   "metadata": {},
   "outputs": [
    {
     "name": "stdout",
     "output_type": "stream",
     "text": [
      "Average obtained numbers are : 81.0\n"
     ]
    }
   ],
   "source": [
    "avg=sum/4\n",
    "print(\"Average obtained numbers are :\",avg)"
   ]
  },
  {
   "cell_type": "code",
   "execution_count": 4,
   "id": "12fc42cb",
   "metadata": {},
   "outputs": [],
   "source": [
    "per_eng=Eng/100*100\n",
    "per_math=Math/100*100\n",
    "per_phy=Phy/100*100\n",
    "per_che=Che/100*100"
   ]
  },
  {
   "cell_type": "code",
   "execution_count": 5,
   "id": "a21e8d2f",
   "metadata": {},
   "outputs": [
    {
     "name": "stdout",
     "output_type": "stream",
     "text": [
      "Percentage obtained for English is  85.0\n",
      "Percentage obtained for Mathematics is  87.0\n",
      "Percentage obtained for Physics is  77.0\n",
      "Percentage obtained for Chemistry is  75.0\n"
     ]
    }
   ],
   "source": [
    "print(\"Percentage obtained for English is \", per_eng )\n",
    "print(\"Percentage obtained for Mathematics is \", per_math )\n",
    "print(\"Percentage obtained for Physics is \", per_phy )\n",
    "print(\"Percentage obtained for Chemistry is \", per_che )"
   ]
  },
  {
   "cell_type": "code",
   "execution_count": null,
   "id": "cac69d90",
   "metadata": {},
   "outputs": [],
   "source": []
  }
 ],
 "metadata": {
  "kernelspec": {
   "display_name": "Python 3 (ipykernel)",
   "language": "python",
   "name": "python3"
  },
  "language_info": {
   "codemirror_mode": {
    "name": "ipython",
    "version": 3
   },
   "file_extension": ".py",
   "mimetype": "text/x-python",
   "name": "python",
   "nbconvert_exporter": "python",
   "pygments_lexer": "ipython3",
   "version": "3.10.9"
  }
 },
 "nbformat": 4,
 "nbformat_minor": 5
}
